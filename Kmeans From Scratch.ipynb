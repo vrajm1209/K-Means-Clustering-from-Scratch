{
 "cells": [
  {
   "cell_type": "markdown",
   "id": "ea7b8297",
   "metadata": {},
   "source": [
    "## INFO7390 Assignment - 1\n",
    "\n",
    "Submission notebook: <b>Vraj Mashruwala</b>\n",
    "\n",
    "## Assignment objective: \n",
    "Implement a basic k means clustering algorithm, ideally as a set of functions*. Run it on any dataset of your choice or on the attached online retail dataset. Provide a simple visualization of its results."
   ]
  },
  {
   "cell_type": "markdown",
   "id": "8538de68",
   "metadata": {},
   "source": [
    "#### Dataset: \n",
    "I am using a loan applicants dataset found online. In order to avoid complexities, I consider 2 features for this k-means implementation: applicant income and loan amount. This would help clustering customers in terms of income and loan amounts."
   ]
  },
  {
   "cell_type": "markdown",
   "id": "90ea225e",
   "metadata": {},
   "source": [
    "The flow of this notebook follows defining functions for each step and then calling all the necessary functions later on to perform the related tasks!"
   ]
  },
  {
   "cell_type": "markdown",
   "id": "ac53a3d0",
   "metadata": {},
   "source": [
    "## Import libraries"
   ]
  },
  {
   "cell_type": "code",
   "execution_count": 1,
   "id": "9ebf21b9",
   "metadata": {},
   "outputs": [
    {
     "data": {
      "text/plain": [
       "{'divide': 'warn', 'over': 'warn', 'under': 'ignore', 'invalid': 'warn'}"
      ]
     },
     "execution_count": 1,
     "metadata": {},
     "output_type": "execute_result"
    }
   ],
   "source": [
    "import numpy as np\n",
    "import pandas as pd\n",
    "import seaborn as sns\n",
    "import matplotlib.pyplot as plt\n",
    "pd.options.mode.chained_assignment = None  # default='warn'\n",
    "np.seterr(all=\"ignore\")"
   ]
  },
  {
   "cell_type": "markdown",
   "id": "dac56e71",
   "metadata": {},
   "source": [
    "## Read and pre-process the data"
   ]
  },
  {
   "cell_type": "code",
   "execution_count": 2,
   "id": "8d61bd52",
   "metadata": {},
   "outputs": [
    {
     "data": {
      "text/html": [
       "<div>\n",
       "<style scoped>\n",
       "    .dataframe tbody tr th:only-of-type {\n",
       "        vertical-align: middle;\n",
       "    }\n",
       "\n",
       "    .dataframe tbody tr th {\n",
       "        vertical-align: top;\n",
       "    }\n",
       "\n",
       "    .dataframe thead th {\n",
       "        text-align: right;\n",
       "    }\n",
       "</style>\n",
       "<table border=\"1\" class=\"dataframe\">\n",
       "  <thead>\n",
       "    <tr style=\"text-align: right;\">\n",
       "      <th></th>\n",
       "      <th>Loan_ID</th>\n",
       "      <th>Gender</th>\n",
       "      <th>Married</th>\n",
       "      <th>Dependents</th>\n",
       "      <th>Education</th>\n",
       "      <th>Self_Employed</th>\n",
       "      <th>ApplicantIncome</th>\n",
       "      <th>CoapplicantIncome</th>\n",
       "      <th>LoanAmount</th>\n",
       "      <th>Loan_Amount_Term</th>\n",
       "      <th>Credit_History</th>\n",
       "      <th>Property_Area</th>\n",
       "      <th>Loan_Status</th>\n",
       "    </tr>\n",
       "  </thead>\n",
       "  <tbody>\n",
       "    <tr>\n",
       "      <th>0</th>\n",
       "      <td>LP001003</td>\n",
       "      <td>Male</td>\n",
       "      <td>Yes</td>\n",
       "      <td>1</td>\n",
       "      <td>Graduate</td>\n",
       "      <td>No</td>\n",
       "      <td>4583</td>\n",
       "      <td>1508.0</td>\n",
       "      <td>128.0</td>\n",
       "      <td>360.0</td>\n",
       "      <td>1.0</td>\n",
       "      <td>Rural</td>\n",
       "      <td>N</td>\n",
       "    </tr>\n",
       "    <tr>\n",
       "      <th>1</th>\n",
       "      <td>LP001005</td>\n",
       "      <td>Male</td>\n",
       "      <td>Yes</td>\n",
       "      <td>0</td>\n",
       "      <td>Graduate</td>\n",
       "      <td>Yes</td>\n",
       "      <td>3000</td>\n",
       "      <td>0.0</td>\n",
       "      <td>66.0</td>\n",
       "      <td>360.0</td>\n",
       "      <td>1.0</td>\n",
       "      <td>Urban</td>\n",
       "      <td>Y</td>\n",
       "    </tr>\n",
       "    <tr>\n",
       "      <th>2</th>\n",
       "      <td>LP001006</td>\n",
       "      <td>Male</td>\n",
       "      <td>Yes</td>\n",
       "      <td>0</td>\n",
       "      <td>Not Graduate</td>\n",
       "      <td>No</td>\n",
       "      <td>2583</td>\n",
       "      <td>2358.0</td>\n",
       "      <td>120.0</td>\n",
       "      <td>360.0</td>\n",
       "      <td>1.0</td>\n",
       "      <td>Urban</td>\n",
       "      <td>Y</td>\n",
       "    </tr>\n",
       "    <tr>\n",
       "      <th>3</th>\n",
       "      <td>LP001008</td>\n",
       "      <td>Male</td>\n",
       "      <td>No</td>\n",
       "      <td>0</td>\n",
       "      <td>Graduate</td>\n",
       "      <td>No</td>\n",
       "      <td>6000</td>\n",
       "      <td>0.0</td>\n",
       "      <td>141.0</td>\n",
       "      <td>360.0</td>\n",
       "      <td>1.0</td>\n",
       "      <td>Urban</td>\n",
       "      <td>Y</td>\n",
       "    </tr>\n",
       "    <tr>\n",
       "      <th>4</th>\n",
       "      <td>LP001013</td>\n",
       "      <td>Male</td>\n",
       "      <td>Yes</td>\n",
       "      <td>0</td>\n",
       "      <td>Not Graduate</td>\n",
       "      <td>No</td>\n",
       "      <td>2333</td>\n",
       "      <td>1516.0</td>\n",
       "      <td>95.0</td>\n",
       "      <td>360.0</td>\n",
       "      <td>1.0</td>\n",
       "      <td>Urban</td>\n",
       "      <td>Y</td>\n",
       "    </tr>\n",
       "  </tbody>\n",
       "</table>\n",
       "</div>"
      ],
      "text/plain": [
       "    Loan_ID Gender Married Dependents     Education Self_Employed  \\\n",
       "0  LP001003   Male     Yes          1      Graduate            No   \n",
       "1  LP001005   Male     Yes          0      Graduate           Yes   \n",
       "2  LP001006   Male     Yes          0  Not Graduate            No   \n",
       "3  LP001008   Male      No          0      Graduate            No   \n",
       "4  LP001013   Male     Yes          0  Not Graduate            No   \n",
       "\n",
       "   ApplicantIncome  CoapplicantIncome  LoanAmount  Loan_Amount_Term  \\\n",
       "0             4583             1508.0       128.0             360.0   \n",
       "1             3000                0.0        66.0             360.0   \n",
       "2             2583             2358.0       120.0             360.0   \n",
       "3             6000                0.0       141.0             360.0   \n",
       "4             2333             1516.0        95.0             360.0   \n",
       "\n",
       "   Credit_History Property_Area Loan_Status  \n",
       "0             1.0         Rural           N  \n",
       "1             1.0         Urban           Y  \n",
       "2             1.0         Urban           Y  \n",
       "3             1.0         Urban           Y  \n",
       "4             1.0         Urban           Y  "
      ]
     },
     "execution_count": 2,
     "metadata": {},
     "output_type": "execute_result"
    }
   ],
   "source": [
    "df = pd.read_csv('loan_dataset.csv')\n",
    "df.head()"
   ]
  },
  {
   "cell_type": "code",
   "execution_count": 3,
   "id": "005ba622",
   "metadata": {},
   "outputs": [
    {
     "name": "stdout",
     "output_type": "stream",
     "text": [
      "<class 'pandas.core.frame.DataFrame'>\n",
      "RangeIndex: 381 entries, 0 to 380\n",
      "Data columns (total 13 columns):\n",
      " #   Column             Non-Null Count  Dtype  \n",
      "---  ------             --------------  -----  \n",
      " 0   Loan_ID            381 non-null    object \n",
      " 1   Gender             376 non-null    object \n",
      " 2   Married            381 non-null    object \n",
      " 3   Dependents         373 non-null    object \n",
      " 4   Education          381 non-null    object \n",
      " 5   Self_Employed      360 non-null    object \n",
      " 6   ApplicantIncome    381 non-null    int64  \n",
      " 7   CoapplicantIncome  381 non-null    float64\n",
      " 8   LoanAmount         381 non-null    float64\n",
      " 9   Loan_Amount_Term   370 non-null    float64\n",
      " 10  Credit_History     351 non-null    float64\n",
      " 11  Property_Area      381 non-null    object \n",
      " 12  Loan_Status        381 non-null    object \n",
      "dtypes: float64(4), int64(1), object(8)\n",
      "memory usage: 38.8+ KB\n"
     ]
    }
   ],
   "source": [
    "df.info()"
   ]
  },
  {
   "cell_type": "code",
   "execution_count": 4,
   "id": "33e0c3c1",
   "metadata": {},
   "outputs": [
    {
     "data": {
      "text/html": [
       "<div>\n",
       "<style scoped>\n",
       "    .dataframe tbody tr th:only-of-type {\n",
       "        vertical-align: middle;\n",
       "    }\n",
       "\n",
       "    .dataframe tbody tr th {\n",
       "        vertical-align: top;\n",
       "    }\n",
       "\n",
       "    .dataframe thead th {\n",
       "        text-align: right;\n",
       "    }\n",
       "</style>\n",
       "<table border=\"1\" class=\"dataframe\">\n",
       "  <thead>\n",
       "    <tr style=\"text-align: right;\">\n",
       "      <th></th>\n",
       "      <th>ApplicantIncome</th>\n",
       "      <th>LoanAmount</th>\n",
       "    </tr>\n",
       "  </thead>\n",
       "  <tbody>\n",
       "    <tr>\n",
       "      <th>0</th>\n",
       "      <td>4583</td>\n",
       "      <td>128.0</td>\n",
       "    </tr>\n",
       "    <tr>\n",
       "      <th>1</th>\n",
       "      <td>3000</td>\n",
       "      <td>66.0</td>\n",
       "    </tr>\n",
       "    <tr>\n",
       "      <th>2</th>\n",
       "      <td>2583</td>\n",
       "      <td>120.0</td>\n",
       "    </tr>\n",
       "    <tr>\n",
       "      <th>3</th>\n",
       "      <td>6000</td>\n",
       "      <td>141.0</td>\n",
       "    </tr>\n",
       "    <tr>\n",
       "      <th>4</th>\n",
       "      <td>2333</td>\n",
       "      <td>95.0</td>\n",
       "    </tr>\n",
       "    <tr>\n",
       "      <th>5</th>\n",
       "      <td>3200</td>\n",
       "      <td>70.0</td>\n",
       "    </tr>\n",
       "    <tr>\n",
       "      <th>6</th>\n",
       "      <td>2500</td>\n",
       "      <td>109.0</td>\n",
       "    </tr>\n",
       "    <tr>\n",
       "      <th>7</th>\n",
       "      <td>1853</td>\n",
       "      <td>114.0</td>\n",
       "    </tr>\n",
       "    <tr>\n",
       "      <th>8</th>\n",
       "      <td>1299</td>\n",
       "      <td>17.0</td>\n",
       "    </tr>\n",
       "    <tr>\n",
       "      <th>9</th>\n",
       "      <td>4950</td>\n",
       "      <td>125.0</td>\n",
       "    </tr>\n",
       "  </tbody>\n",
       "</table>\n",
       "</div>"
      ],
      "text/plain": [
       "   ApplicantIncome  LoanAmount\n",
       "0             4583       128.0\n",
       "1             3000        66.0\n",
       "2             2583       120.0\n",
       "3             6000       141.0\n",
       "4             2333        95.0\n",
       "5             3200        70.0\n",
       "6             2500       109.0\n",
       "7             1853       114.0\n",
       "8             1299        17.0\n",
       "9             4950       125.0"
      ]
     },
     "execution_count": 4,
     "metadata": {},
     "output_type": "execute_result"
    }
   ],
   "source": [
    "data = df[['ApplicantIncome', 'LoanAmount']] #filter out the data we need\n",
    "data.head(10)"
   ]
  },
  {
   "cell_type": "markdown",
   "id": "4ffe9710",
   "metadata": {},
   "source": [
    "Have a look at the data distribution in order to check for any skewness"
   ]
  },
  {
   "cell_type": "code",
   "execution_count": 5,
   "id": "aa231b54",
   "metadata": {},
   "outputs": [
    {
     "name": "stderr",
     "output_type": "stream",
     "text": [
      "/Users/vraj/opt/anaconda3/lib/python3.8/site-packages/seaborn/distributions.py:2619: FutureWarning: `distplot` is a deprecated function and will be removed in a future version. Please adapt your code to use either `displot` (a figure-level function with similar flexibility) or `histplot` (an axes-level function for histograms).\n",
      "  warnings.warn(msg, FutureWarning)\n"
     ]
    },
    {
     "data": {
      "text/plain": [
       "Text(0.5, 1.0, 'DISTPLOT FOR APPLICANT INCOME')"
      ]
     },
     "execution_count": 5,
     "metadata": {},
     "output_type": "execute_result"
    },
    {
     "data": {
      "image/png": "[encoded data removed]",
      "text/plain": [
       "<Figure size 432x288 with 1 Axes>"
      ]
     },
     "metadata": {
      "needs_background": "light"
     },
     "output_type": "display_data"
    }
   ],
   "source": [
    "plt.figure(figsize=(6, 4))\n",
    "sns.distplot(data['ApplicantIncome'])\n",
    "\n",
    "plt.title('DISTPLOT FOR APPLICANT INCOME') "
   ]
  },
  {
   "cell_type": "code",
   "execution_count": 6,
   "id": "2c83f34e",
   "metadata": {},
   "outputs": [
    {
     "name": "stderr",
     "output_type": "stream",
     "text": [
      "/Users/vraj/opt/anaconda3/lib/python3.8/site-packages/seaborn/distributions.py:2619: FutureWarning: `distplot` is a deprecated function and will be removed in a future version. Please adapt your code to use either `displot` (a figure-level function with similar flexibility) or `histplot` (an axes-level function for histograms).\n",
      "  warnings.warn(msg, FutureWarning)\n"
     ]
    },
    {
     "data": {
      "text/plain": [
       "Text(0.5, 1.0, 'DISTPLOT FOR LOAN AMOUNT')"
      ]
     },
     "execution_count": 6,
     "metadata": {},
     "output_type": "execute_result"
    },
    {
     "data": {
      "image/png": "[encoded data removed]",
      "text/plain": [
       "<Figure size 432x288 with 1 Axes>"
      ]
     },
     "metadata": {
      "needs_background": "light"
     },
     "output_type": "display_data"
    }
   ],
   "source": [
    "plt.figure(figsize=(6, 4))\n",
    "sns.distplot(data['LoanAmount'])\n",
    "\n",
    "plt.title('DISTPLOT FOR LOAN AMOUNT') "
   ]
  },
  {
   "cell_type": "markdown",
   "id": "01543e01",
   "metadata": {},
   "source": [
    "The data does not seem skewed. Let's move onto normalizing the data"
   ]
  },
  {
   "cell_type": "code",
   "execution_count": 7,
   "id": "15714590",
   "metadata": {},
   "outputs": [],
   "source": [
    "#normalizing the data to be between 0 and 1\n",
    "data_normalized = data.copy()\n",
    "for col in data:\n",
    "    data_normalized[col] = (data_normalized[col] - np.min(data_normalized[col])) / (np.max(data_normalized[col]) - np.min(data_normalized[col]))"
   ]
  },
  {
   "cell_type": "code",
   "execution_count": 8,
   "id": "aa8a4371",
   "metadata": {},
   "outputs": [
    {
     "data": {
      "text/html": [
       "<div>\n",
       "<style scoped>\n",
       "    .dataframe tbody tr th:only-of-type {\n",
       "        vertical-align: middle;\n",
       "    }\n",
       "\n",
       "    .dataframe tbody tr th {\n",
       "        vertical-align: top;\n",
       "    }\n",
       "\n",
       "    .dataframe thead th {\n",
       "        text-align: right;\n",
       "    }\n",
       "</style>\n",
       "<table border=\"1\" class=\"dataframe\">\n",
       "  <thead>\n",
       "    <tr style=\"text-align: right;\">\n",
       "      <th></th>\n",
       "      <th>ApplicantIncome</th>\n",
       "      <th>LoanAmount</th>\n",
       "    </tr>\n",
       "  </thead>\n",
       "  <tbody>\n",
       "    <tr>\n",
       "      <th>count</th>\n",
       "      <td>381.000000</td>\n",
       "      <td>381.000000</td>\n",
       "    </tr>\n",
       "    <tr>\n",
       "      <th>mean</th>\n",
       "      <td>0.359033</td>\n",
       "      <td>0.680758</td>\n",
       "    </tr>\n",
       "    <tr>\n",
       "      <th>std</th>\n",
       "      <td>0.148625</td>\n",
       "      <td>0.201124</td>\n",
       "    </tr>\n",
       "    <tr>\n",
       "      <th>min</th>\n",
       "      <td>0.000000</td>\n",
       "      <td>0.000000</td>\n",
       "    </tr>\n",
       "    <tr>\n",
       "      <th>25%</th>\n",
       "      <td>0.256464</td>\n",
       "      <td>0.574468</td>\n",
       "    </tr>\n",
       "    <tr>\n",
       "      <th>50%</th>\n",
       "      <td>0.333194</td>\n",
       "      <td>0.716312</td>\n",
       "    </tr>\n",
       "    <tr>\n",
       "      <th>75%</th>\n",
       "      <td>0.433162</td>\n",
       "      <td>0.836879</td>\n",
       "    </tr>\n",
       "    <tr>\n",
       "      <th>max</th>\n",
       "      <td>1.000000</td>\n",
       "      <td>1.000000</td>\n",
       "    </tr>\n",
       "  </tbody>\n",
       "</table>\n",
       "</div>"
      ],
      "text/plain": [
       "       ApplicantIncome  LoanAmount\n",
       "count       381.000000  381.000000\n",
       "mean          0.359033    0.680758\n",
       "std           0.148625    0.201124\n",
       "min           0.000000    0.000000\n",
       "25%           0.256464    0.574468\n",
       "50%           0.333194    0.716312\n",
       "75%           0.433162    0.836879\n",
       "max           1.000000    1.000000"
      ]
     },
     "execution_count": 8,
     "metadata": {},
     "output_type": "execute_result"
    }
   ],
   "source": [
    "data_normalized.describe()"
   ]
  },
  {
   "cell_type": "code",
   "execution_count": 9,
   "id": "67642d11",
   "metadata": {},
   "outputs": [],
   "source": [
    "#all the data points\n",
    "datapoints = data_normalized.values"
   ]
  },
  {
   "cell_type": "markdown",
   "id": "4e99af58",
   "metadata": {},
   "source": [
    "## Defining the functions to carry out K-Means Clustering one after the other\n",
    "The working of each function is given as description"
   ]
  },
  {
   "cell_type": "code",
   "execution_count": 10,
   "id": "99d1112f",
   "metadata": {},
   "outputs": [],
   "source": [
    "def initialize_centroids(datapoints, K):\n",
    "    ''' This function randomly initializes the centroid datapoints for each of the K clusters'''\n",
    "    \n",
    "    size = datapoints.shape[1]\n",
    "    centroids = [] #to store all centroid points\n",
    "    \n",
    "    for cluster in range(K):\n",
    "        point = np.random.uniform(datapoints.min(), datapoints.max(), size)\n",
    "        centroids.append(point)\n",
    "    \n",
    "    return centroids"
   ]
  },
  {
   "cell_type": "code",
   "execution_count": 11,
   "id": "6477d74f",
   "metadata": {},
   "outputs": [],
   "source": [
    "def cluster_allocation(datapoints, centroids):\n",
    "    ''' This function performs the cluster assignment for all datapoints by finding the nearest centroid point. \n",
    "    It calculates the Euclidean distance between each datapoint and each centroid point to find nearest centroid.\n",
    "    This function returns a list of allocations of the length equal to number of data points'''\n",
    "    \n",
    "    allocations = [] #to store cluster label allocations for each data point\n",
    "\n",
    "    for datapoint in datapoints:\n",
    "        distances = [] \n",
    "        \n",
    "        for centroid in centroids:\n",
    "            euc_distance = np.linalg.norm(datapoint - centroid) #euclid distance between datapoint and all centroids\n",
    "            distances.append(euc_distance)\n",
    "        \n",
    "        allocation = np.argmin(distances) #datapoint is allocated to the nearest centroid\n",
    "        allocations.append(allocation)\n",
    "\n",
    "    return allocations"
   ]
  },
  {
   "cell_type": "code",
   "execution_count": 12,
   "id": "2225397c",
   "metadata": {},
   "outputs": [],
   "source": [
    "def update_centroids(datapoints, centroids, allocations, K):\n",
    "    '''This function is used to update the centroid points for all clusters to new points. The new centroid \n",
    "    is calculated by computing the mean of all datapoints allocated to a cluster. The function retrns the\n",
    "    updated centroids as a list'''\n",
    "    \n",
    "    updated_centroids = [] #to store new centroid points for all clusters\n",
    "    \n",
    "    for cluster in range(K):\n",
    "        points_in_cluster = []\n",
    "    \n",
    "        for i in range(len(datapoints)):\n",
    "            if (allocations[i] == cluster):\n",
    "                points_in_cluster.append(datapoints[i])\n",
    "        \n",
    "        cluster_mean = np.mean(points_in_cluster, axis = 0) #mean of all points in a cluster is the new centroid\n",
    "        updated_centroids.append(cluster_mean)\n",
    "\n",
    "    return updated_centroids"
   ]
  },
  {
   "cell_type": "code",
   "execution_count": 13,
   "id": "66e03f66",
   "metadata": {},
   "outputs": [],
   "source": [
    "def dissimilarity_score_over_all_cluster(datapoints, centroids, allocations):\n",
    "    '''This function is used to compute the dissimilarity score (C) across all clusters. \n",
    "    The euclidean distances between each point and it's centroid is found and squared (this is the error). \n",
    "    Then these errors are summed across all datapoints to find the dissimilarity score (C) of that cluster'''\n",
    "    \n",
    "    errors = [] #to store distances between each point and the assigned centroid (error)\n",
    "    \n",
    "    for i in range(len(datapoints)):\n",
    "        centroid = centroids[allocations[i]] #find allocated cluster\n",
    "        euc_distance = np.linalg.norm(np.array(datapoints[i]) - np.array(centroid)) #compute distance \n",
    "        errors.append(euc_distance**2) #error (squared distance)\n",
    "        \n",
    "    dissimilarity_score = sum(errors) #dissimilarity score over all cluster is the sum of errors\n",
    "    \n",
    "    return dissimilarity_score"
   ]
  },
  {
   "cell_type": "code",
   "execution_count": 14,
   "id": "6236dbe6",
   "metadata": {},
   "outputs": [],
   "source": [
    "def kmeans(datapoints, K, iterations = 100):\n",
    "    '''This function implements the K-means Clustering algorithm. It initializes the centroids, assigns all data \n",
    "    points to a centroid (clustering) and updates the centroid based on error/variability. The iterations allow you to\n",
    "    repeatedly update the centroid allocations and the centroid points while optimizing for C (dissimilarity score).\n",
    "    This function returns the centroid points, the cluster allocation for each datapoint & the dissimilarity score'''\n",
    "    \n",
    "    i = 0\n",
    "    dissimilarity_scores = []\n",
    "    allocations = []\n",
    "    \n",
    "    centroids = initialize_centroids(datapoints, K) #initializing K centroids\n",
    "\n",
    "    while (len(dissimilarity_scores) <= 1 or i < iterations):\n",
    "        \n",
    "        allocations = cluster_allocation(datapoints, centroids) #allocating datapoints to closest centroid\n",
    "        centroids = update_centroids(datapoints, centroids, allocations, K) #compute and update centroids\n",
    "        dissimilarity_score = dissimilarity_score_over_all_cluster(datapoints, centroids, allocations) #calculate C\n",
    "        dissimilarity_scores.append(dissimilarity_score)\n",
    "        \n",
    "        if (i == 0):\n",
    "            i += 1\n",
    "            continue\n",
    "        \n",
    "        #check for convergence\n",
    "        else:\n",
    "            if(np.absolute(dissimilarity_scores[i] - dissimilarity_scores[i-1]) / dissimilarity_scores[i-1] >= 0.01):\n",
    "                break #stopping criteria\n",
    "            else: \n",
    "                i += 1\n",
    "        \n",
    "    return (centroids, allocations, dissimilarity_scores)"
   ]
  },
  {
   "cell_type": "code",
   "execution_count": 15,
   "id": "9d5da1fa",
   "metadata": {},
   "outputs": [],
   "source": [
    "def plot_clusters(datapoints, fitted_kmeans):\n",
    "    '''This function plots the clustered data along with the clusters centroid to show an easy to read plot.\n",
    "    The function does not return anything, rather just prints out the plot'''\n",
    "    \n",
    "    colors = ['green', 'cyan', 'magenta', 'red', 'blue']\n",
    "    plt.figure(figsize = (8, 6))  \n",
    "    \n",
    "    for i in range(len(fitted_kmeans[0])): #number of clusters\n",
    "        for x in range(len(datapoints)):\n",
    "            if (fitted_kmeans[1][x] == i): #find all data points of a cluster\n",
    "                plt.scatter(datapoints[x,0], datapoints[x,1], c = colors[i]) #plot datapoints of a cluster\n",
    "        plt.scatter(fitted_kmeans[0][i][0], fitted_kmeans[0][i][1], c = 'black', s = 300) #plot centroid of a cluster\n",
    "    \n",
    "    plt.title('CLUSTER PLOT')\n",
    "    plt.xlabel('Applicant Income')\n",
    "    plt.ylabel('Loan Amount')"
   ]
  },
  {
   "cell_type": "markdown",
   "id": "ce0c8d8e",
   "metadata": {},
   "source": [
    "### All the functions are now created.\n",
    "Let me move onto performing k-means clustering on the dataset"
   ]
  },
  {
   "cell_type": "markdown",
   "id": "5eb2ac66",
   "metadata": {},
   "source": [
    "## Performing k-means clustering"
   ]
  },
  {
   "cell_type": "markdown",
   "id": "2bd141cf",
   "metadata": {},
   "source": [
    "Running the algorithm for different values of K. Also capturing the error (dissimilarity score or C) for each case in order to find the optimal value of K later."
   ]
  },
  {
   "cell_type": "code",
   "execution_count": 28,
   "id": "88ebaeaf",
   "metadata": {
    "scrolled": false
   },
   "outputs": [],
   "source": [
    "error_square_summed = {}\n",
    "fitted_kmeans = {}\n",
    "\n",
    "for k in range(1, 6):\n",
    "    fitted_kmeans[k] = kmeans(datapoints, K = k) #fit the kmeans algorithm for each k\n",
    "    error_square_summed[k] = fitted_kmeans[k][2][-1]"
   ]
  },
  {
   "cell_type": "markdown",
   "id": "839e019f",
   "metadata": {},
   "source": [
    "## Elbow method"
   ]
  },
  {
   "cell_type": "markdown",
   "id": "4671ba85",
   "metadata": {},
   "source": [
    "The elbow plot plots the errors vs diff value of K, this helps you figure out a good value of k by finding the 'elbow point'. In the elbow plot for our case, you can see that k=2 or k=3 would be a good choice. "
   ]
  },
  {
   "cell_type": "code",
   "execution_count": 29,
   "id": "95e7246d",
   "metadata": {
    "scrolled": false
   },
   "outputs": [
    {
     "data": {
      "text/plain": [
       "Text(0, 0.5, 'Sum of squared error')"
      ]
     },
     "execution_count": 29,
     "metadata": {},
     "output_type": "execute_result"
    },
    {
     "data": {
      "image/png": "[encoded data removed]",
      "text/plain": [
       "<Figure size 864x576 with 1 Axes>"
      ]
     },
     "metadata": {
      "needs_background": "light"
     },
     "output_type": "display_data"
    }
   ],
   "source": [
    "plt.figure(figsize = (12,8))\n",
    "sns.pointplot(x = list(error_square_summed.keys()), y = list(error_square_summed.values()))\n",
    "\n",
    "plt.title('ELBOW PLOT')\n",
    "plt.xlabel('Value of k')\n",
    "plt.ylabel('Sum of squared error')"
   ]
  },
  {
   "cell_type": "markdown",
   "id": "69b3d163",
   "metadata": {},
   "source": [
    "## Visualization of Clusters"
   ]
  },
  {
   "cell_type": "markdown",
   "id": "3eaf165d",
   "metadata": {},
   "source": [
    "As seen from the elbow plot above, k=2 or k=3 seems to be a good choice for number of clusters. I will go ahead and visualize the cluster plot for these two values of k"
   ]
  },
  {
   "cell_type": "code",
   "execution_count": 30,
   "id": "8af74dcd",
   "metadata": {},
   "outputs": [],
   "source": [
    "k_2 = fitted_kmeans[2]\n",
    "k_3 = fitted_kmeans[3]"
   ]
  },
  {
   "cell_type": "code",
   "execution_count": 31,
   "id": "9cefdae7",
   "metadata": {},
   "outputs": [
    {
     "data": {
      "image/png": "[encoded data removed]",
      "text/plain": [
       "<Figure size 576x432 with 1 Axes>"
      ]
     },
     "metadata": {
      "needs_background": "light"
     },
     "output_type": "display_data"
    }
   ],
   "source": [
    "plot_clusters(datapoints, k_2)"
   ]
  },
  {
   "cell_type": "code",
   "execution_count": 32,
   "id": "4b86b492",
   "metadata": {},
   "outputs": [
    {
     "data": {
      "image/png": "[encoded data removed]",
      "text/plain": [
       "<Figure size 576x432 with 1 Axes>"
      ]
     },
     "metadata": {
      "needs_background": "light"
     },
     "output_type": "display_data"
    }
   ],
   "source": [
    "plot_clusters(datapoints,k_3)"
   ]
  },
  {
   "cell_type": "markdown",
   "id": "23387543",
   "metadata": {},
   "source": [
    "## Relative importances & Cluster characteristics"
   ]
  },
  {
   "cell_type": "markdown",
   "id": "1226dfd4",
   "metadata": {},
   "source": [
    "Plotting the relative importances of each attribute with respect to clusters for k = 2"
   ]
  },
  {
   "cell_type": "code",
   "execution_count": 33,
   "id": "381f2499",
   "metadata": {},
   "outputs": [],
   "source": [
    "data_cluster = data.copy()\n",
    "data_cluster['Cluster'] = np.array(k_2[1]) #displaying the original data along with the cluster for each data point"
   ]
  },
  {
   "cell_type": "code",
   "execution_count": 34,
   "id": "80fb76b0",
   "metadata": {},
   "outputs": [
    {
     "data": {
      "text/html": [
       "<div>\n",
       "<style scoped>\n",
       "    .dataframe tbody tr th:only-of-type {\n",
       "        vertical-align: middle;\n",
       "    }\n",
       "\n",
       "    .dataframe tbody tr th {\n",
       "        vertical-align: top;\n",
       "    }\n",
       "\n",
       "    .dataframe thead th {\n",
       "        text-align: right;\n",
       "    }\n",
       "</style>\n",
       "<table border=\"1\" class=\"dataframe\">\n",
       "  <thead>\n",
       "    <tr style=\"text-align: right;\">\n",
       "      <th></th>\n",
       "      <th>ApplicantIncome</th>\n",
       "      <th>LoanAmount</th>\n",
       "      <th>Cluster</th>\n",
       "    </tr>\n",
       "  </thead>\n",
       "  <tbody>\n",
       "    <tr>\n",
       "      <th>0</th>\n",
       "      <td>4583</td>\n",
       "      <td>128.0</td>\n",
       "      <td>1</td>\n",
       "    </tr>\n",
       "    <tr>\n",
       "      <th>1</th>\n",
       "      <td>3000</td>\n",
       "      <td>66.0</td>\n",
       "      <td>0</td>\n",
       "    </tr>\n",
       "    <tr>\n",
       "      <th>2</th>\n",
       "      <td>2583</td>\n",
       "      <td>120.0</td>\n",
       "      <td>0</td>\n",
       "    </tr>\n",
       "    <tr>\n",
       "      <th>3</th>\n",
       "      <td>6000</td>\n",
       "      <td>141.0</td>\n",
       "      <td>1</td>\n",
       "    </tr>\n",
       "    <tr>\n",
       "      <th>4</th>\n",
       "      <td>2333</td>\n",
       "      <td>95.0</td>\n",
       "      <td>0</td>\n",
       "    </tr>\n",
       "    <tr>\n",
       "      <th>...</th>\n",
       "      <td>...</td>\n",
       "      <td>...</td>\n",
       "      <td>...</td>\n",
       "    </tr>\n",
       "    <tr>\n",
       "      <th>376</th>\n",
       "      <td>5703</td>\n",
       "      <td>128.0</td>\n",
       "      <td>1</td>\n",
       "    </tr>\n",
       "    <tr>\n",
       "      <th>377</th>\n",
       "      <td>3232</td>\n",
       "      <td>108.0</td>\n",
       "      <td>0</td>\n",
       "    </tr>\n",
       "    <tr>\n",
       "      <th>378</th>\n",
       "      <td>2900</td>\n",
       "      <td>71.0</td>\n",
       "      <td>0</td>\n",
       "    </tr>\n",
       "    <tr>\n",
       "      <th>379</th>\n",
       "      <td>4106</td>\n",
       "      <td>40.0</td>\n",
       "      <td>0</td>\n",
       "    </tr>\n",
       "    <tr>\n",
       "      <th>380</th>\n",
       "      <td>4583</td>\n",
       "      <td>133.0</td>\n",
       "      <td>1</td>\n",
       "    </tr>\n",
       "  </tbody>\n",
       "</table>\n",
       "<p>381 rows × 3 columns</p>\n",
       "</div>"
      ],
      "text/plain": [
       "     ApplicantIncome  LoanAmount  Cluster\n",
       "0               4583       128.0        1\n",
       "1               3000        66.0        0\n",
       "2               2583       120.0        0\n",
       "3               6000       141.0        1\n",
       "4               2333        95.0        0\n",
       "..               ...         ...      ...\n",
       "376             5703       128.0        1\n",
       "377             3232       108.0        0\n",
       "378             2900        71.0        0\n",
       "379             4106        40.0        0\n",
       "380             4583       133.0        1\n",
       "\n",
       "[381 rows x 3 columns]"
      ]
     },
     "execution_count": 34,
     "metadata": {},
     "output_type": "execute_result"
    }
   ],
   "source": [
    "data_cluster"
   ]
  },
  {
   "cell_type": "code",
   "execution_count": 35,
   "id": "bdd394f7",
   "metadata": {},
   "outputs": [
    {
     "data": {
      "text/html": [
       "<div>\n",
       "<style scoped>\n",
       "    .dataframe tbody tr th:only-of-type {\n",
       "        vertical-align: middle;\n",
       "    }\n",
       "\n",
       "    .dataframe tbody tr th {\n",
       "        vertical-align: top;\n",
       "    }\n",
       "\n",
       "    .dataframe thead tr th {\n",
       "        text-align: left;\n",
       "    }\n",
       "\n",
       "    .dataframe thead tr:last-of-type th {\n",
       "        text-align: right;\n",
       "    }\n",
       "</style>\n",
       "<table border=\"1\" class=\"dataframe\">\n",
       "  <thead>\n",
       "    <tr>\n",
       "      <th></th>\n",
       "      <th>ApplicantIncome</th>\n",
       "      <th colspan=\"2\" halign=\"left\">LoanAmount</th>\n",
       "    </tr>\n",
       "    <tr>\n",
       "      <th></th>\n",
       "      <th>mean</th>\n",
       "      <th>mean</th>\n",
       "      <th>count</th>\n",
       "    </tr>\n",
       "    <tr>\n",
       "      <th>Cluster</th>\n",
       "      <th></th>\n",
       "      <th></th>\n",
       "      <th></th>\n",
       "    </tr>\n",
       "  </thead>\n",
       "  <tbody>\n",
       "    <tr>\n",
       "      <th>0</th>\n",
       "      <td>2912.0</td>\n",
       "      <td>93.0</td>\n",
       "      <td>248</td>\n",
       "    </tr>\n",
       "    <tr>\n",
       "      <th>1</th>\n",
       "      <td>4825.0</td>\n",
       "      <td>128.0</td>\n",
       "      <td>133</td>\n",
       "    </tr>\n",
       "  </tbody>\n",
       "</table>\n",
       "</div>"
      ],
      "text/plain": [
       "        ApplicantIncome LoanAmount      \n",
       "                   mean       mean count\n",
       "Cluster                                 \n",
       "0                2912.0       93.0   248\n",
       "1                4825.0      128.0   133"
      ]
     },
     "execution_count": 35,
     "metadata": {},
     "output_type": "execute_result"
    }
   ],
   "source": [
    "#cluster-wise attribute characteristics\n",
    "data_cluster.groupby(['Cluster']).agg({ 'ApplicantIncome': 'mean', 'LoanAmount': ['mean', 'count'],}).round(0)"
   ]
  },
  {
   "cell_type": "code",
   "execution_count": 36,
   "id": "8f926449",
   "metadata": {},
   "outputs": [
    {
     "data": {
      "text/html": [
       "<div>\n",
       "<style scoped>\n",
       "    .dataframe tbody tr th:only-of-type {\n",
       "        vertical-align: middle;\n",
       "    }\n",
       "\n",
       "    .dataframe tbody tr th {\n",
       "        vertical-align: top;\n",
       "    }\n",
       "\n",
       "    .dataframe thead th {\n",
       "        text-align: right;\n",
       "    }\n",
       "</style>\n",
       "<table border=\"1\" class=\"dataframe\">\n",
       "  <thead>\n",
       "    <tr style=\"text-align: right;\">\n",
       "      <th></th>\n",
       "      <th>ApplicantIncome</th>\n",
       "      <th>LoanAmount</th>\n",
       "    </tr>\n",
       "    <tr>\n",
       "      <th>Cluster</th>\n",
       "      <th></th>\n",
       "      <th></th>\n",
       "    </tr>\n",
       "  </thead>\n",
       "  <tbody>\n",
       "    <tr>\n",
       "      <th>0</th>\n",
       "      <td>2911.947581</td>\n",
       "      <td>92.866935</td>\n",
       "    </tr>\n",
       "    <tr>\n",
       "      <th>1</th>\n",
       "      <td>4825.248120</td>\n",
       "      <td>127.586466</td>\n",
       "    </tr>\n",
       "  </tbody>\n",
       "</table>\n",
       "</div>"
      ],
      "text/plain": [
       "         ApplicantIncome  LoanAmount\n",
       "Cluster                             \n",
       "0            2911.947581   92.866935\n",
       "1            4825.248120  127.586466"
      ]
     },
     "execution_count": 36,
     "metadata": {},
     "output_type": "execute_result"
    }
   ],
   "source": [
    "cluster_avg = data_cluster.groupby(['Cluster']).mean() #to find relative importance\n",
    "cluster_avg"
   ]
  },
  {
   "cell_type": "code",
   "execution_count": 37,
   "id": "0b69b3cb",
   "metadata": {},
   "outputs": [
    {
     "data": {
      "text/plain": [
       "ApplicantIncome    3579.845144\n",
       "LoanAmount          104.986877\n",
       "dtype: float64"
      ]
     },
     "execution_count": 37,
     "metadata": {},
     "output_type": "execute_result"
    }
   ],
   "source": [
    "population_avg = data.mean() #to find relative importance\n",
    "population_avg"
   ]
  },
  {
   "cell_type": "code",
   "execution_count": 38,
   "id": "ce804299",
   "metadata": {},
   "outputs": [
    {
     "data": {
      "text/html": [
       "<div>\n",
       "<style scoped>\n",
       "    .dataframe tbody tr th:only-of-type {\n",
       "        vertical-align: middle;\n",
       "    }\n",
       "\n",
       "    .dataframe tbody tr th {\n",
       "        vertical-align: top;\n",
       "    }\n",
       "\n",
       "    .dataframe thead th {\n",
       "        text-align: right;\n",
       "    }\n",
       "</style>\n",
       "<table border=\"1\" class=\"dataframe\">\n",
       "  <thead>\n",
       "    <tr style=\"text-align: right;\">\n",
       "      <th></th>\n",
       "      <th>ApplicantIncome</th>\n",
       "      <th>LoanAmount</th>\n",
       "    </tr>\n",
       "    <tr>\n",
       "      <th>Cluster</th>\n",
       "      <th></th>\n",
       "      <th></th>\n",
       "    </tr>\n",
       "  </thead>\n",
       "  <tbody>\n",
       "    <tr>\n",
       "      <th>0</th>\n",
       "      <td>-0.19</td>\n",
       "      <td>-0.12</td>\n",
       "    </tr>\n",
       "    <tr>\n",
       "      <th>1</th>\n",
       "      <td>0.35</td>\n",
       "      <td>0.22</td>\n",
       "    </tr>\n",
       "  </tbody>\n",
       "</table>\n",
       "</div>"
      ],
      "text/plain": [
       "         ApplicantIncome  LoanAmount\n",
       "Cluster                             \n",
       "0                  -0.19       -0.12\n",
       "1                   0.35        0.22"
      ]
     },
     "execution_count": 38,
     "metadata": {},
     "output_type": "execute_result"
    }
   ],
   "source": [
    "relative_imp = cluster_avg / population_avg - 1\n",
    "relative_imp.round(2)"
   ]
  },
  {
   "cell_type": "code",
   "execution_count": 39,
   "id": "c4af414d",
   "metadata": {},
   "outputs": [
    {
     "data": {
      "text/plain": [
       "Text(0.5, 1.0, 'RELATIVE IMPORTANCE OF ATTRIBUTES')"
      ]
     },
     "execution_count": 39,
     "metadata": {},
     "output_type": "execute_result"
    },
    {
     "data": {
      "image/png": "[encoded data removed]",
      "text/plain": [
       "<Figure size 576x432 with 2 Axes>"
      ]
     },
     "metadata": {
      "needs_background": "light"
     },
     "output_type": "display_data"
    }
   ],
   "source": [
    "plt.figure(figsize = (8, 6))\n",
    "sns.heatmap(data = relative_imp, annot = True, fmt = '.2f', cmap = 'Spectral')\n",
    "\n",
    "plt.title('RELATIVE IMPORTANCE OF ATTRIBUTES') "
   ]
  },
  {
   "cell_type": "code",
   "execution_count": null,
   "id": "e9f0c5ca",
   "metadata": {},
   "outputs": [],
   "source": []
  }
 ],
 "metadata": {
  "kernelspec": {
   "display_name": "Python 3 (ipykernel)",
   "language": "python",
   "name": "python3"
  },
  "language_info": {
   "codemirror_mode": {
    "name": "ipython",
    "version": 3
   },
   "file_extension": ".py",
   "mimetype": "text/x-python",
   "name": "python",
   "nbconvert_exporter": "python",
   "pygments_lexer": "ipython3",
   "version": "3.8.12"
  }
 },
 "nbformat": 4,
 "nbformat_minor": 5
}
